{
  "cells": [
    {
      "cell_type": "code",
      "execution_count": 52,
      "metadata": {
        "trusted": true
      },
      "outputs": [],
      "source": [
        "%pip install folium\n",
        "import folium \n",
        "from folium.plugins import HeatMap\n",
        "import json\n",
        "import math\n",
        "import pandas as pd \n",
        "import numpy as np\n",
        "import requests\n",
        "\n",
        "pd.options.mode.chained_assignment = None  # default='warn'"
      ]
    },
    {
      "cell_type": "code",
      "execution_count": null,
      "metadata": {
        "trusted": true
      },
      "outputs": [],
      "source": [
        "\n",
        "\n",
        "url = \"https://data.brisbane.qld.gov.au/api/explore/v2.1/catalog/datasets/traffic-data-at-intersection/exports/json?lang=en&timezone=Australia%2FBrisbane\"\n",
        "\n",
        "# Define the API key and the headers\n",
        "api_key = \"APIKEY\"\n",
        "headers = {\n",
        "    \"Authorization\": f\"Apikey {api_key}\"\n",
        "}\n",
        "\n",
        "try:\n",
        "    response = requests.get(url, headers=headers, verify=True)\n",
        "    response.raise_for_status()  # Raises an HTTPError for bad responses (4xx or 5xx)\n",
        "\n",
        "    data = response.json()\n",
        "    \n",
        "    # Convert JSON response to DataFrame\n",
        "    PDTrafficVolume = pd.DataFrame(data)\n",
        "  #  print(df.head())  # Print the first few rows of the DataFrame\n",
        "\n",
        "except requests.exceptions.SSLError as ssl_err:\n",
        "    print(f\"SSL certificate verification failed: {ssl_err}\")\n",
        "except requests.exceptions.HTTPError as http_err:\n",
        "    print(f\"HTTP error occurred: {http_err}\")\n",
        "except Exception as err:\n",
        "    print(f\"An error occurred: {err}\")"
      ]
    },
    {
      "cell_type": "code",
      "execution_count": null,
      "metadata": {
        "trusted": true
      },
      "outputs": [],
      "source": [
        "#open reference data. Using a local file as the data shouldn’t change much. can potentially change to make a web call to get most recent reference data.\n",
        "RawReference = open('intersections-reference.json')\n",
        "\n",
        "JSONReference = json.load(RawReference)"
      ]
    },
    {
      "cell_type": "code",
      "execution_count": null,
      "metadata": {
        "trusted": true
      },
      "outputs": [],
      "source": [
        "#read the reference data into pandas\n",
        "PDReference = pd.DataFrame(JSONReference)\n",
        "\n",
        "#remove records with no latlon\n",
        "non_missing = PDReference[['latitude', 'longitude']].notna()\n",
        "df_clean = PDReference[non_missing['latitude'] & non_missing['longitude']]\n"
      ]
    },
    {
      "cell_type": "code",
      "execution_count": null,
      "metadata": {
        "trusted": true
      },
      "outputs": [],
      "source": [
        "#Join the reference data with the live traffic data\n",
        "merged_df = pd.merge(df_clean,PDTrafficVolume, how='left', left_on=['tsc'], right_on=['tsc'])\n",
        "\n",
        "filtered_lat_df = merged_df[['latitude','longitude','tsc','lane','ds1','ds2','ds3','ds4']]\n",
        "\n",
        "#remove rows where lane is None and ds1 is None\n",
        "filtered_lat_df  = filtered_lat_df .dropna(subset=['lane', 'ds1'], how='all')\n",
        "\n",
        "#filtered_lat_df['ds1'] = filtered_lat_df['ds1'].fillna(0)\n",
        "\n",
        "# Convert to numeric type\n",
        "filtered_lat_df['ds1'] = pd.to_numeric(filtered_lat_df['ds1'])\n",
        "filtered_lat_df['ds2'] = pd.to_numeric(filtered_lat_df['ds2'])\n",
        "filtered_lat_df['ds3'] = pd.to_numeric(filtered_lat_df['ds3'])\n",
        "filtered_lat_df['ds4'] = pd.to_numeric(filtered_lat_df['ds4'])\n",
        "\n",
        "def conditional_mean(series):\n",
        "    if series.isna().all():\n",
        "        return np.nan\n",
        "    return series.mean()\n",
        "\n",
        "\n",
        "group_means = filtered_lat_df.groupby('tsc').agg({\n",
        "    'latitude': 'first',\n",
        "    'longitude': 'first',\n",
        "    'ds1': conditional_mean,\n",
        "    'ds2': conditional_mean,\n",
        "    'ds3': conditional_mean,\n",
        "    'ds4': conditional_mean\n",
        "}).reset_index()\n",
        "\n",
        "#Get the mean degree of saturation excluding lanes that are not present on the road. \n",
        "group_means['ds_avg'] = group_means[['ds1', 'ds2', 'ds3', 'ds4']].mean(axis=1, skipna=True)\n",
        "group_means = group_means.dropna(subset=['ds_avg'])\n"
      ]
    },
    {
      "cell_type": "code",
      "execution_count": null,
      "metadata": {
        "trusted": true
      },
      "outputs": [],
      "source": [
        "\n",
        "#change the lane saturation to a decimal so it can be used to vary the heatmap colours. \n",
        "group_means['ds_avg'] = group_means['ds_avg'] * 0.01\n",
        "\n",
        "# Ensure all values in group_means['ds1'] are changed to 1 if they are greater than 1\n",
        "group_means['ds_avg'] = np.where(group_means['ds_avg'] > 1, 1, group_means['ds_avg'])\n"
      ]
    },
    {
      "cell_type": "code",
      "execution_count": null,
      "metadata": {},
      "outputs": [],
      "source": [
        "#set up map\n",
        "map_osm = folium.Map(location=[-27.467951, 153.020577],zoom_start = 16)\n",
        "\n",
        "data = group_means[['latitude','longitude','ds_avg']]\n",
        "\n",
        "HeatMap(data).add_to(map_osm)\n",
        "map_osm"
      ]
    },
    {
      "cell_type": "code",
      "execution_count": null,
      "metadata": {
        "scrolled": true,
        "trusted": true
      },
      "outputs": [],
      "source": []
    },
    {
      "cell_type": "code",
      "execution_count": null,
      "metadata": {
        "trusted": true
      },
      "outputs": [],
      "source": []
    }
  ],
  "metadata": {
    "kernelspec": {
      "display_name": "Python (Pyodide)",
      "language": "python",
      "name": "python"
    },
    "language_info": {
      "codemirror_mode": {
        "name": "python",
        "version": 3
      },
      "file_extension": ".py",
      "mimetype": "text/x-python",
      "name": "python",
      "nbconvert_exporter": "python",
      "pygments_lexer": "ipython3",
      "version": "3.8"
    }
  },
  "nbformat": 4,
  "nbformat_minor": 4
}
